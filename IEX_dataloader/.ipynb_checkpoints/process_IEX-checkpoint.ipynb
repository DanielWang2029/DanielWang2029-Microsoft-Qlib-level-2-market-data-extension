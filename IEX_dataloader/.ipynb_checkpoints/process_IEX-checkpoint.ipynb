{
 "cells": [
  {
   "cell_type": "code",
   "execution_count": 54,
   "metadata": {},
   "outputs": [
    {
     "name": "stderr",
     "output_type": "stream",
     "text": [
      "[9158:MainThread](2021-02-16 12:24:16,442) INFO - qlib.Initialization - [config.py:277] - default_conf: client.\n",
      "[9158:MainThread](2021-02-16 12:24:16,445) WARNING - qlib.Initialization - [config.py:293] - redis connection failed(host=127.0.0.1 port=6379), cache will not be used!\n",
      "[9158:MainThread](2021-02-16 12:24:16,446) INFO - qlib.Initialization - [__init__.py:46] - qlib successfully initialized based on client settings.\n",
      "[9158:MainThread](2021-02-16 12:24:16,446) INFO - qlib.Initialization - [__init__.py:47] - data_path=/Users/Alexis/.qlib/qlib_data/IEX\n"
     ]
    }
   ],
   "source": [
    "import sys\n",
    "import qlib \n",
    "from qlib.data import D\n",
    "sys.path.insert(1, '/Users/Alexis/Documents/Courses/Winter2021/Stat359/359/processor')\n",
    "import processor\n",
    "#Will update processor as we start to process other types of data ie level 2 \n",
    "#process_level1=processor.Processor()\n",
    "#initialize which folder you would like to work in \n",
    "qlib.init(provider_uri='~/.qlib/qlib_data/IEX')\n",
    "#How to get relevant data from .qlib folder\n",
    "calendar=D.calendar(start_time='2021-01-19', end_time='2021-02-12', freq='day')[:2]\n",
    "instruments=D.instruments(market='all')\n",
    "#Fields will depend on what features we want to give the model \n",
    "fields = ['$close', '$volume','$open','$high','$low']\n",
    "features=D.features(instruments,fields,start_time='2021-01-19', end_time='2021-02-12')\n",
    "#processor.Processor.is_for_infer(features) #apparently our processor can also infer but does nothing when run"
   ]
  },
  {
   "cell_type": "code",
   "execution_count": 27,
   "metadata": {},
   "outputs": [
    {
     "data": {
      "text/html": [
       "<div>\n",
       "<style scoped>\n",
       "    .dataframe tbody tr th:only-of-type {\n",
       "        vertical-align: middle;\n",
       "    }\n",
       "\n",
       "    .dataframe tbody tr th {\n",
       "        vertical-align: top;\n",
       "    }\n",
       "\n",
       "    .dataframe thead th {\n",
       "        text-align: right;\n",
       "    }\n",
       "</style>\n",
       "<table border=\"1\" class=\"dataframe\">\n",
       "  <thead>\n",
       "    <tr style=\"text-align: right;\">\n",
       "      <th></th>\n",
       "      <th></th>\n",
       "      <th>$close</th>\n",
       "      <th>$volume</th>\n",
       "      <th>$open</th>\n",
       "      <th>$high</th>\n",
       "      <th>$low</th>\n",
       "    </tr>\n",
       "    <tr>\n",
       "      <th>instrument</th>\n",
       "      <th>datetime</th>\n",
       "      <th></th>\n",
       "      <th></th>\n",
       "      <th></th>\n",
       "      <th></th>\n",
       "      <th></th>\n",
       "    </tr>\n",
       "  </thead>\n",
       "  <tbody>\n",
       "    <tr>\n",
       "      <th rowspan=\"5\" valign=\"top\">IEX</th>\n",
       "      <th>2021-01-19</th>\n",
       "      <td>193.429993</td>\n",
       "      <td>630397.0</td>\n",
       "      <td>195.160004</td>\n",
       "      <td>196.880005</td>\n",
       "      <td>193.259995</td>\n",
       "    </tr>\n",
       "    <tr>\n",
       "      <th>2021-01-20</th>\n",
       "      <td>198.279999</td>\n",
       "      <td>847182.0</td>\n",
       "      <td>194.720001</td>\n",
       "      <td>199.479996</td>\n",
       "      <td>194.529999</td>\n",
       "    </tr>\n",
       "    <tr>\n",
       "      <th>2021-01-21</th>\n",
       "      <td>195.529999</td>\n",
       "      <td>408906.0</td>\n",
       "      <td>197.979996</td>\n",
       "      <td>199.759995</td>\n",
       "      <td>193.529999</td>\n",
       "    </tr>\n",
       "    <tr>\n",
       "      <th>2021-01-22</th>\n",
       "      <td>196.539993</td>\n",
       "      <td>401428.0</td>\n",
       "      <td>195.119995</td>\n",
       "      <td>197.660004</td>\n",
       "      <td>193.710007</td>\n",
       "    </tr>\n",
       "    <tr>\n",
       "      <th>2021-01-25</th>\n",
       "      <td>194.130005</td>\n",
       "      <td>480153.0</td>\n",
       "      <td>195.600006</td>\n",
       "      <td>197.649994</td>\n",
       "      <td>192.800003</td>\n",
       "    </tr>\n",
       "  </tbody>\n",
       "</table>\n",
       "</div>"
      ],
      "text/plain": [
       "                           $close   $volume       $open       $high  \\\n",
       "instrument datetime                                                   \n",
       "IEX        2021-01-19  193.429993  630397.0  195.160004  196.880005   \n",
       "           2021-01-20  198.279999  847182.0  194.720001  199.479996   \n",
       "           2021-01-21  195.529999  408906.0  197.979996  199.759995   \n",
       "           2021-01-22  196.539993  401428.0  195.119995  197.660004   \n",
       "           2021-01-25  194.130005  480153.0  195.600006  197.649994   \n",
       "\n",
       "                             $low  \n",
       "instrument datetime                \n",
       "IEX        2021-01-19  193.259995  \n",
       "           2021-01-20  194.529999  \n",
       "           2021-01-21  193.529999  \n",
       "           2021-01-22  193.710007  \n",
       "           2021-01-25  192.800003  "
      ]
     },
     "execution_count": 27,
     "metadata": {},
     "output_type": "execute_result"
    }
   ],
   "source": [
    "features.head()"
   ]
  },
  {
   "cell_type": "code",
   "execution_count": 62,
   "metadata": {},
   "outputs": [
    {
     "data": {
      "text/html": [
       "<div>\n",
       "<style scoped>\n",
       "    .dataframe tbody tr th:only-of-type {\n",
       "        vertical-align: middle;\n",
       "    }\n",
       "\n",
       "    .dataframe tbody tr th {\n",
       "        vertical-align: top;\n",
       "    }\n",
       "\n",
       "    .dataframe thead th {\n",
       "        text-align: right;\n",
       "    }\n",
       "</style>\n",
       "<table border=\"1\" class=\"dataframe\">\n",
       "  <thead>\n",
       "    <tr style=\"text-align: right;\">\n",
       "      <th></th>\n",
       "      <th></th>\n",
       "      <th>$close</th>\n",
       "      <th>$volume</th>\n",
       "      <th>$open</th>\n",
       "      <th>$high</th>\n",
       "      <th>$low</th>\n",
       "    </tr>\n",
       "    <tr>\n",
       "      <th>instrument</th>\n",
       "      <th>datetime</th>\n",
       "      <th></th>\n",
       "      <th></th>\n",
       "      <th></th>\n",
       "      <th></th>\n",
       "      <th></th>\n",
       "    </tr>\n",
       "  </thead>\n",
       "  <tbody>\n",
       "    <tr>\n",
       "      <th rowspan=\"5\" valign=\"top\">IEX</th>\n",
       "      <th>2021-01-19</th>\n",
       "      <td>NaN</td>\n",
       "      <td>630397.0</td>\n",
       "      <td>195.160004</td>\n",
       "      <td>196.880005</td>\n",
       "      <td>193.259995</td>\n",
       "    </tr>\n",
       "    <tr>\n",
       "      <th>2021-01-20</th>\n",
       "      <td>NaN</td>\n",
       "      <td>847182.0</td>\n",
       "      <td>194.720001</td>\n",
       "      <td>199.479996</td>\n",
       "      <td>194.529999</td>\n",
       "    </tr>\n",
       "    <tr>\n",
       "      <th>2021-01-21</th>\n",
       "      <td>NaN</td>\n",
       "      <td>408906.0</td>\n",
       "      <td>197.979996</td>\n",
       "      <td>199.759995</td>\n",
       "      <td>193.529999</td>\n",
       "    </tr>\n",
       "    <tr>\n",
       "      <th>2021-01-22</th>\n",
       "      <td>NaN</td>\n",
       "      <td>401428.0</td>\n",
       "      <td>195.119995</td>\n",
       "      <td>197.660004</td>\n",
       "      <td>193.710007</td>\n",
       "    </tr>\n",
       "    <tr>\n",
       "      <th>2021-01-25</th>\n",
       "      <td>NaN</td>\n",
       "      <td>480153.0</td>\n",
       "      <td>195.600006</td>\n",
       "      <td>197.649994</td>\n",
       "      <td>192.800003</td>\n",
       "    </tr>\n",
       "  </tbody>\n",
       "</table>\n",
       "</div>"
      ],
      "text/plain": [
       "                       $close   $volume       $open       $high        $low\n",
       "instrument datetime                                                        \n",
       "IEX        2021-01-19     NaN  630397.0  195.160004  196.880005  193.259995\n",
       "           2021-01-20     NaN  847182.0  194.720001  199.479996  194.529999\n",
       "           2021-01-21     NaN  408906.0  197.979996  199.759995  193.529999\n",
       "           2021-01-22     NaN  401428.0  195.119995  197.660004  193.710007\n",
       "           2021-01-25     NaN  480153.0  195.600006  197.649994  192.800003"
      ]
     },
     "execution_count": 62,
     "metadata": {},
     "output_type": "execute_result"
    }
   ],
   "source": [
    "import numpy as np\n",
    "features['$close']=np.nan #make nans see if processor works\n",
    "features.head() #notice now close is entirely nans"
   ]
  },
  {
   "cell_type": "code",
   "execution_count": 32,
   "metadata": {},
   "outputs": [
    {
     "ename": "AttributeError",
     "evalue": "type object 'Processor' has no attribute 'Fillna'",
     "output_type": "error",
     "traceback": [
      "\u001b[0;31m---------------------------------------------------------------------------\u001b[0m",
      "\u001b[0;31mAttributeError\u001b[0m                            Traceback (most recent call last)",
      "\u001b[0;32m<ipython-input-32-92af00251e2a>\u001b[0m in \u001b[0;36m<module>\u001b[0;34m\u001b[0m\n\u001b[1;32m      1\u001b[0m \u001b[0;31m#Apply processor to feature data\u001b[0m\u001b[0;34m\u001b[0m\u001b[0;34m\u001b[0m\u001b[0;34m\u001b[0m\u001b[0m\n\u001b[1;32m      2\u001b[0m \u001b[0mfeat\u001b[0m\u001b[0;34m=\u001b[0m\u001b[0mprocess_level1\u001b[0m\u001b[0;34m(\u001b[0m\u001b[0mfeatures\u001b[0m\u001b[0;34m)\u001b[0m\u001b[0;34m\u001b[0m\u001b[0;34m\u001b[0m\u001b[0m\n\u001b[0;32m----> 3\u001b[0;31m \u001b[0mprocessor\u001b[0m\u001b[0;34m.\u001b[0m\u001b[0mProcessor\u001b[0m\u001b[0;34m.\u001b[0m\u001b[0mFillna\u001b[0m\u001b[0;34m(\u001b[0m\u001b[0;34m)\u001b[0m\u001b[0;34m\u001b[0m\u001b[0;34m\u001b[0m\u001b[0m\n\u001b[0m\u001b[1;32m      4\u001b[0m \u001b[0;31m#process_level1(features) #our processor doesnt work\u001b[0m\u001b[0;34m\u001b[0m\u001b[0;34m\u001b[0m\u001b[0;34m\u001b[0m\u001b[0m\n",
      "\u001b[0;31mAttributeError\u001b[0m: type object 'Processor' has no attribute 'Fillna'"
     ]
    }
   ],
   "source": [
    "#Apply processor to feature data\n",
    "#process_level1(features) #our processor doesnt work "
   ]
  },
  {
   "cell_type": "code",
   "execution_count": 44,
   "metadata": {},
   "outputs": [],
   "source": [
    "#lets try qlibs processor\n",
    "from qlib.data.dataset.processor import DropnaProcessor"
   ]
  },
  {
   "cell_type": "code",
   "execution_count": 67,
   "metadata": {},
   "outputs": [
    {
     "name": "stdout",
     "output_type": "stream",
     "text": [
      "<qlib.data.dataset.processor.DropnaProcessor object at 0x7fb76b10aa90>\n"
     ]
    }
   ],
   "source": [
    "DropnaProcessor(features) #qlibs processor can infer from our features but also doesn't handle the nans"
   ]
  },
  {
   "cell_type": "code",
   "execution_count": 33,
   "metadata": {},
   "outputs": [],
   "source": [
    "import IEX_processor #removed serializable so no pickling or relying on prior df"
   ]
  },
  {
   "cell_type": "code",
   "execution_count": 58,
   "metadata": {},
   "outputs": [],
   "source": [
    "feat=processor.Processor()\n"
   ]
  },
  {
   "cell_type": "code",
   "execution_count": 59,
   "metadata": {},
   "outputs": [
    {
     "data": {
      "text/plain": [
       "['__call__',\n",
       " '__class__',\n",
       " '__delattr__',\n",
       " '__dict__',\n",
       " '__dir__',\n",
       " '__doc__',\n",
       " '__eq__',\n",
       " '__format__',\n",
       " '__ge__',\n",
       " '__getattribute__',\n",
       " '__getstate__',\n",
       " '__gt__',\n",
       " '__hash__',\n",
       " '__init__',\n",
       " '__init_subclass__',\n",
       " '__le__',\n",
       " '__lt__',\n",
       " '__module__',\n",
       " '__ne__',\n",
       " '__new__',\n",
       " '__reduce__',\n",
       " '__reduce_ex__',\n",
       " '__repr__',\n",
       " '__setattr__',\n",
       " '__setstate__',\n",
       " '__sizeof__',\n",
       " '__str__',\n",
       " '__subclasshook__',\n",
       " '__weakref__',\n",
       " '_dump_all',\n",
       " '_exclude',\n",
       " 'config',\n",
       " 'dump_all',\n",
       " 'exclude',\n",
       " 'fit',\n",
       " 'is_for_infer',\n",
       " 'to_pickle']"
      ]
     },
     "execution_count": 59,
     "metadata": {},
     "output_type": "execute_result"
    }
   ],
   "source": [
    "dir(feat)"
   ]
  }
 ],
 "metadata": {
  "kernelspec": {
   "display_name": "Python 3",
   "language": "python",
   "name": "python3"
  },
  "language_info": {
   "codemirror_mode": {
    "name": "ipython",
    "version": 3
   },
   "file_extension": ".py",
   "mimetype": "text/x-python",
   "name": "python",
   "nbconvert_exporter": "python",
   "pygments_lexer": "ipython3",
   "version": "3.7.6"
  }
 },
 "nbformat": 4,
 "nbformat_minor": 4
}
